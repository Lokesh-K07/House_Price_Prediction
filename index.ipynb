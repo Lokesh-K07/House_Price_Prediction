{
 "cells": [
  {
   "cell_type": "markdown",
   "id": "b6229755-929c-45e2-a3cf-72236200827f",
   "metadata": {},
   "source": [
    "<font size = \"6\" color = \"Blue\"> HOUSE PRICE PREDICTION </font>"
   ]
  },
  {
   "cell_type": "markdown",
   "id": "08cd8ad8-1520-43fa-b030-0d46afd61424",
   "metadata": {},
   "source": [
    "## Introduction \n",
    "\n",
    "House price prediction is a classic machine learning project that aims to estimate the value of a house based on its features. These features can include location, size, number of bedrooms and bathrooms, age, and various other attributes. This project demonstrates the application of several machine learning models to analyze and predict house prices with reasonable accuracy. Accurate house price prediction is valuable for both buyers and sellers, as well as for real estate market analysis.\n"
   ]
  },
  {
   "cell_type": "markdown",
   "id": "cfa09941-0b09-44fb-a2ad-4e6f27c08c4c",
   "metadata": {},
   "source": [
    "##  Data Preprocessing \n",
    "- Data preprocessing is a crucial step in any machine learning project. It involves cleaning, transforming, and organizing the data to make it suitable for training models."
   ]
  },
  {
   "cell_type": "markdown",
   "id": "7f125848-c7d5-44ca-94f2-19929dcfa488",
   "metadata": {},
   "source": [
    "## Features \n",
    "\n",
    "The dataset contains several features that influence house prices, including:\n",
    "- **Location**: The geographical area of the house.\n",
    "- **Size**: Square footage or number of bedrooms/bathrooms.\n",
    "- **Age of Property**: The year the house was built.\n",
    "- **bedrooms**: No.of available bedrooms in the house.\n",
    "- **Water Availability**: No.of resources for availability of water\n",
    "- **Other Attributes**: Additional factors such as  floors, etc.\n"
   ]
  },
  {
   "cell_type": "markdown",
   "id": "28d403cc-5d7c-4bf4-9a67-a7e04794c5cc",
   "metadata": {},
   "source": [
    "## Graphs & Visualizations\n",
    "- **Bar Plot**: A bar plot is used to visualize the grade's of prices based on the house price.\n",
    "- **Predicted vs Actual Prices**: A Scatter plot and Bar plot used to compare predicted and actual prices."
   ]
  },
  {
   "cell_type": "markdown",
   "id": "04e0b840-87f6-4838-a9b6-527837b171e2",
   "metadata": {},
   "source": [
    "<font size = \"5\" color = \"green\">  Working of the Model </font>\n"
   ]
  },
  {
   "cell_type": "markdown",
   "id": "9014427d-fb06-43bc-840e-437211e726a6",
   "metadata": {},
   "source": [
    "### 1. Importing neccessary libraries"
   ]
  },
  {
   "cell_type": "code",
   "execution_count": 2,
   "id": "26c9a530-57bb-4d26-837b-b242e1b3736c",
   "metadata": {},
   "outputs": [],
   "source": [
    "import pandas as pd\n",
    "import numpy as np\n",
    "import matplotlib.pyplot as plt\n",
    "import warnings\n",
    "from sklearn.model_selection import train_test_split\n",
    "from sklearn.metrics import accuracy_score\n",
    "from sklearn import svm\n",
    "from sklearn.neighbors import KNeighborsClassifier\n",
    "from sklearn.preprocessing import LabelEncoder\n",
    "from sklearn.linear_model import Ridge, Lasso\n",
    "from sklearn.ensemble import RandomForestClassifier\n",
    "from sklearn.tree import DecisionTreeClassifier\n",
    "from sklearn.ensemble import RandomForestRegressor\n",
    "from sklearn.metrics import classification_report\n",
    "from sklearn.preprocessing import StandardScaler\n",
    "from sklearn.metrics import mean_absolute_error, mean_squared_error, r2_score"
   ]
  },
  {
   "cell_type": "markdown",
   "id": "c8a065ea-f235-490d-bdf7-73550e6039b3",
   "metadata": {},
   "source": [
    "### 2. Define the path of Dataset"
   ]
  },
  {
   "cell_type": "code",
   "execution_count": 3,
   "id": "9fa4e532-386f-445c-907b-cc2e09a138d6",
   "metadata": {},
   "outputs": [
    {
     "data": {
      "text/html": [
       "<div>\n",
       "<style scoped>\n",
       "    .dataframe tbody tr th:only-of-type {\n",
       "        vertical-align: middle;\n",
       "    }\n",
       "\n",
       "    .dataframe tbody tr th {\n",
       "        vertical-align: top;\n",
       "    }\n",
       "\n",
       "    .dataframe thead th {\n",
       "        text-align: right;\n",
       "    }\n",
       "</style>\n",
       "<table border=\"1\" class=\"dataframe\">\n",
       "  <thead>\n",
       "    <tr style=\"text-align: right;\">\n",
       "      <th></th>\n",
       "      <th>date</th>\n",
       "      <th>price</th>\n",
       "      <th>bedrooms</th>\n",
       "      <th>bathrooms</th>\n",
       "      <th>sqft_living</th>\n",
       "      <th>sqft_lot</th>\n",
       "      <th>floors</th>\n",
       "      <th>waterfront</th>\n",
       "      <th>view</th>\n",
       "      <th>condition</th>\n",
       "      <th>sqft_above</th>\n",
       "      <th>sqft_basement</th>\n",
       "      <th>yr_built</th>\n",
       "      <th>yr_renovated</th>\n",
       "      <th>street</th>\n",
       "      <th>city</th>\n",
       "      <th>statezip</th>\n",
       "      <th>country</th>\n",
       "    </tr>\n",
       "  </thead>\n",
       "  <tbody>\n",
       "    <tr>\n",
       "      <th>0</th>\n",
       "      <td>06-05-2014 00:00</td>\n",
       "      <td>7800</td>\n",
       "      <td>2</td>\n",
       "      <td>1</td>\n",
       "      <td>780</td>\n",
       "      <td>16344</td>\n",
       "      <td>1</td>\n",
       "      <td>1</td>\n",
       "      <td>1</td>\n",
       "      <td>1</td>\n",
       "      <td>780</td>\n",
       "      <td>0</td>\n",
       "      <td>1942</td>\n",
       "      <td>0</td>\n",
       "      <td>4229 S 144th St</td>\n",
       "      <td>Tukwila</td>\n",
       "      <td>WA 98168</td>\n",
       "      <td>USA</td>\n",
       "    </tr>\n",
       "    <tr>\n",
       "      <th>1</th>\n",
       "      <td>23-05-2014 00:00</td>\n",
       "      <td>80000</td>\n",
       "      <td>1</td>\n",
       "      <td>0</td>\n",
       "      <td>430</td>\n",
       "      <td>5050</td>\n",
       "      <td>1</td>\n",
       "      <td>1</td>\n",
       "      <td>1</td>\n",
       "      <td>2</td>\n",
       "      <td>430</td>\n",
       "      <td>0</td>\n",
       "      <td>1912</td>\n",
       "      <td>0</td>\n",
       "      <td>32215 E Rutherford St</td>\n",
       "      <td>Carnation</td>\n",
       "      <td>WA 98014</td>\n",
       "      <td>USA</td>\n",
       "    </tr>\n",
       "    <tr>\n",
       "      <th>2</th>\n",
       "      <td>29-05-2014 00:00</td>\n",
       "      <td>83000</td>\n",
       "      <td>2</td>\n",
       "      <td>1</td>\n",
       "      <td>900</td>\n",
       "      <td>8580</td>\n",
       "      <td>1</td>\n",
       "      <td>1</td>\n",
       "      <td>1</td>\n",
       "      <td>3</td>\n",
       "      <td>900</td>\n",
       "      <td>0</td>\n",
       "      <td>1918</td>\n",
       "      <td>0</td>\n",
       "      <td>14440 51st Ave S</td>\n",
       "      <td>Tukwila</td>\n",
       "      <td>WA 98168</td>\n",
       "      <td>USA</td>\n",
       "    </tr>\n",
       "    <tr>\n",
       "      <th>3</th>\n",
       "      <td>20-05-2014 00:00</td>\n",
       "      <td>83300</td>\n",
       "      <td>3</td>\n",
       "      <td>2</td>\n",
       "      <td>1490</td>\n",
       "      <td>7770</td>\n",
       "      <td>1</td>\n",
       "      <td>1</td>\n",
       "      <td>1</td>\n",
       "      <td>4</td>\n",
       "      <td>1490</td>\n",
       "      <td>0</td>\n",
       "      <td>1990</td>\n",
       "      <td>0</td>\n",
       "      <td>26017 189th Ave SE</td>\n",
       "      <td>Covington</td>\n",
       "      <td>WA 98042</td>\n",
       "      <td>USA</td>\n",
       "    </tr>\n",
       "    <tr>\n",
       "      <th>4</th>\n",
       "      <td>23-05-2014 00:00</td>\n",
       "      <td>83300</td>\n",
       "      <td>3</td>\n",
       "      <td>2</td>\n",
       "      <td>1370</td>\n",
       "      <td>78408</td>\n",
       "      <td>1</td>\n",
       "      <td>1</td>\n",
       "      <td>1</td>\n",
       "      <td>5</td>\n",
       "      <td>1370</td>\n",
       "      <td>0</td>\n",
       "      <td>1964</td>\n",
       "      <td>0</td>\n",
       "      <td>24007 196th Ave SE</td>\n",
       "      <td>Covington</td>\n",
       "      <td>WA 98042</td>\n",
       "      <td>USA</td>\n",
       "    </tr>\n",
       "  </tbody>\n",
       "</table>\n",
       "</div>"
      ],
      "text/plain": [
       "               date  price  bedrooms  bathrooms  sqft_living  sqft_lot  \\\n",
       "0  06-05-2014 00:00   7800         2          1          780     16344   \n",
       "1  23-05-2014 00:00  80000         1          0          430      5050   \n",
       "2  29-05-2014 00:00  83000         2          1          900      8580   \n",
       "3  20-05-2014 00:00  83300         3          2         1490      7770   \n",
       "4  23-05-2014 00:00  83300         3          2         1370     78408   \n",
       "\n",
       "   floors  waterfront  view  condition  sqft_above  sqft_basement  yr_built  \\\n",
       "0       1           1     1          1         780              0      1942   \n",
       "1       1           1     1          2         430              0      1912   \n",
       "2       1           1     1          3         900              0      1918   \n",
       "3       1           1     1          4        1490              0      1990   \n",
       "4       1           1     1          5        1370              0      1964   \n",
       "\n",
       "   yr_renovated                 street       city  statezip country  \n",
       "0             0        4229 S 144th St    Tukwila  WA 98168     USA  \n",
       "1             0  32215 E Rutherford St  Carnation  WA 98014     USA  \n",
       "2             0       14440 51st Ave S    Tukwila  WA 98168     USA  \n",
       "3             0     26017 189th Ave SE  Covington  WA 98042     USA  \n",
       "4             0     24007 196th Ave SE  Covington  WA 98042     USA  "
      ]
     },
     "execution_count": 3,
     "metadata": {},
     "output_type": "execute_result"
    }
   ],
   "source": [
    "cell_df = pd.read_csv(\"process data.csv\")\n",
    "warnings.filterwarnings(\"ignore\")\n",
    "cell_df.head()"
   ]
  },
  {
   "cell_type": "markdown",
   "id": "469b72ed-21d2-478b-8648-780af17d19f0",
   "metadata": {},
   "source": [
    "### 3. Check the Datatypes"
   ]
  },
  {
   "cell_type": "code",
   "execution_count": 4,
   "id": "abc631bf-888e-48b7-9b3c-5ec24653365c",
   "metadata": {},
   "outputs": [
    {
     "name": "stdout",
     "output_type": "stream",
     "text": [
      "<class 'pandas.core.frame.DataFrame'>\n",
      "RangeIndex: 4551 entries, 0 to 4550\n",
      "Data columns (total 18 columns):\n",
      " #   Column         Non-Null Count  Dtype \n",
      "---  ------         --------------  ----- \n",
      " 0   date           4551 non-null   object\n",
      " 1   price          4551 non-null   int64 \n",
      " 2   bedrooms       4551 non-null   int64 \n",
      " 3   bathrooms      4551 non-null   int64 \n",
      " 4   sqft_living    4551 non-null   int64 \n",
      " 5   sqft_lot       4551 non-null   int64 \n",
      " 6   floors         4551 non-null   int64 \n",
      " 7   waterfront     4551 non-null   int64 \n",
      " 8   view           4551 non-null   int64 \n",
      " 9   condition      4551 non-null   int64 \n",
      " 10  sqft_above     4551 non-null   int64 \n",
      " 11  sqft_basement  4551 non-null   int64 \n",
      " 12  yr_built       4551 non-null   int64 \n",
      " 13  yr_renovated   4551 non-null   int64 \n",
      " 14  street         4551 non-null   object\n",
      " 15  city           4551 non-null   object\n",
      " 16  statezip       4551 non-null   object\n",
      " 17  country        4551 non-null   object\n",
      "dtypes: int64(13), object(5)\n",
      "memory usage: 640.1+ KB\n"
     ]
    }
   ],
   "source": [
    "cell_df.info()"
   ]
  },
  {
   "cell_type": "code",
   "execution_count": 5,
   "id": "9897b917-b17e-4568-bb95-56a07e2eb276",
   "metadata": {},
   "outputs": [],
   "source": [
    "label_encoders = {}\n",
    "for column in ['city']:\n",
    "    label_encoders[column] = LabelEncoder()\n",
    "    cell_df[column] = label_encoders[column].fit_transform(cell_df[column])\n",
    "for column in ['street']:\n",
    "    label_encoders[column] = LabelEncoder()\n",
    "    cell_df[column] = label_encoders[column].fit_transform(cell_df[column])\n",
    "for column in ['statezip']:\n",
    "    label_encoders[column] = LabelEncoder()\n",
    "    cell_df[column] = label_encoders[column].fit_transform(cell_df[column])"
   ]
  },
  {
   "cell_type": "code",
   "execution_count": 6,
   "id": "35a1a8a0-79d8-486f-a60e-0dbee9c2e122",
   "metadata": {},
   "outputs": [],
   "source": [
    "cell_df['price'] = cell_df['price'].astype('int')\n",
    "cell_df['bedrooms'] = cell_df['bedrooms'].astype('int')\n",
    "cell_df['bathrooms'] = cell_df['bathrooms'].astype('int')"
   ]
  },
  {
   "cell_type": "code",
   "execution_count": 7,
   "id": "55b92061-1a1f-4a4c-97a0-e29d51f667e1",
   "metadata": {},
   "outputs": [
    {
     "name": "stdout",
     "output_type": "stream",
     "text": [
      "<class 'pandas.core.frame.DataFrame'>\n",
      "RangeIndex: 4551 entries, 0 to 4550\n",
      "Data columns (total 13 columns):\n",
      " #   Column       Non-Null Count  Dtype\n",
      "---  ------       --------------  -----\n",
      " 0   yr_built     4551 non-null   int64\n",
      " 1   sqft_above   4551 non-null   int64\n",
      " 2   sqft_living  4551 non-null   int64\n",
      " 3   sqft_lot     4551 non-null   int64\n",
      " 4   bedrooms     4551 non-null   int64\n",
      " 5   bathrooms    4551 non-null   int64\n",
      " 6   waterfront   4551 non-null   int64\n",
      " 7   view         4551 non-null   int64\n",
      " 8   condition    4551 non-null   int64\n",
      " 9   street       4551 non-null   int64\n",
      " 10  statezip     4551 non-null   int64\n",
      " 11  city         4551 non-null   int64\n",
      " 12  floors       4551 non-null   int64\n",
      "dtypes: int64(13)\n",
      "memory usage: 462.3 KB\n"
     ]
    }
   ],
   "source": [
    "f_df = cell_df[['yr_built','sqft_above', 'sqft_living', 'sqft_lot','bedrooms', 'bathrooms', 'waterfront', 'view', 'condition','street','statezip','city', 'floors']]\n",
    "f_df.info()"
   ]
  },
  {
   "cell_type": "code",
   "execution_count": 8,
   "id": "d1140491-4d9a-41cf-a1c1-08320bcf7211",
   "metadata": {},
   "outputs": [],
   "source": [
    "n = np.array(cell_df['price'])\n",
    "labels = []\n",
    "for i in range(len(n)):\n",
    "    if n[i] > 1000000:\n",
    "        labels.append(1)\n",
    "    elif n[i] > 500000:\n",
    "        labels.append(2)\n",
    "    else:\n",
    "        labels.append(3)\n",
    "f_df['price_category'] = labels"
   ]
  },
  {
   "cell_type": "markdown",
   "id": "da56f664-ab05-4542-bb1f-037813dab7c6",
   "metadata": {},
   "source": [
    "### 4. Creating the Sub plot"
   ]
  },
  {
   "cell_type": "code",
   "execution_count": 9,
   "id": "eea04e21-82b5-4893-97d0-c056ebdc930b",
   "metadata": {},
   "outputs": [
    {
     "data": {
      "image/png": "[encoded data removed]",
      "text/plain": [
       "<Figure size 640x480 with 1 Axes>"
      ]
     },
     "metadata": {},
     "output_type": "display_data"
    }
   ],
   "source": [
    "plt.subplot(1, 1, 1)\n",
    "category_colors = ['#ff9999', '#66b3ff', '#99ff99']\n",
    "category_labels = ['Category 1 (>$1M)', 'Category 2 ($500K-$1M)', 'Category 3 (<$500K)']\n",
    "category_counts = pd.Series(f_df['price_category']).value_counts().sort_index()\n",
    "plt.bar(category_counts.index, category_counts.values, color=category_colors)\n",
    "plt.title('Distribution of Price Categories')\n",
    "plt.xlabel('Price Category')\n",
    "plt.ylabel('Count')\n",
    "plt.xticks([1, 2, 3], category_labels, rotation=45, ha='right')\n",
    "plt.grid(True, linestyle='--', alpha=0.7, axis='y')"
   ]
  },
  {
   "cell_type": "markdown",
   "id": "30cdf400-42f7-4879-aa75-4780356a2ce5",
   "metadata": {},
   "source": [
    "### 5. Splitting the Dataset"
   ]
  },
  {
   "cell_type": "code",
   "execution_count": 10,
   "id": "7e416531-f5d1-4788-abe4-b8605d8d6d81",
   "metadata": {},
   "outputs": [],
   "source": [
    "X = np.array(f_df[['yr_built','sqft_above', 'sqft_living', 'sqft_lot','bedrooms', 'bathrooms', 'waterfront', 'view', 'condition','street','statezip','city', 'floors']])\n",
    "y = np.array(f_df['price_category'])\n",
    "X_train, X_test, y_train, y_test = train_test_split(X, y, test_size=0.2, random_state=42)"
   ]
  },
  {
   "cell_type": "markdown",
   "id": "46d19819-d5e8-40d5-b855-e16f352fd530",
   "metadata": {},
   "source": [
    "### 6. Using KNN Classification"
   ]
  },
  {
   "cell_type": "code",
   "execution_count": 11,
   "id": "22ff5871-9658-47e8-97ca-6f2f7f7a09a7",
   "metadata": {},
   "outputs": [
    {
     "name": "stdout",
     "output_type": "stream",
     "text": [
      "KNN Classification Report: \n",
      "              precision    recall  f1-score   support\n",
      "\n",
      "           1       0.71      0.43      0.54        74\n",
      "           2       0.63      0.61      0.62       317\n",
      "           3       0.79      0.85      0.82       520\n",
      "\n",
      "    accuracy                           0.73       911\n",
      "   macro avg       0.71      0.63      0.66       911\n",
      "weighted avg       0.73      0.73      0.73       911\n",
      "\n"
     ]
    }
   ],
   "source": [
    "#KNN-C\n",
    "\n",
    "classifier = KNeighborsClassifier(n_neighbors=21)\n",
    "scaler = StandardScaler()\n",
    "X_train_scaled = scaler.fit_transform(X_train)\n",
    "X_test_scaled = scaler.transform(X_test)\n",
    "\n",
    "classifier.fit(X_train_scaled, y_train)\n",
    "y_predict = classifier.predict(X_test_scaled)\n",
    "\n",
    "print(\"KNN Classification Report: \")\n",
    "print(classification_report(y_test, y_predict))"
   ]
  },
  {
   "cell_type": "markdown",
   "id": "1039cc8b-b5da-4877-b669-99cc72f9af00",
   "metadata": {},
   "source": [
    "### 7. Using Random Forest Classification"
   ]
  },
  {
   "cell_type": "code",
   "execution_count": 12,
   "id": "fb5d2989-4f67-4505-8bc5-1955ae569e42",
   "metadata": {},
   "outputs": [
    {
     "name": "stdout",
     "output_type": "stream",
     "text": [
      "Random Forest Accuracy: 0.814489571899012\n"
     ]
    }
   ],
   "source": [
    "#RF-C\n",
    "\n",
    "rf_clf = RandomForestClassifier(n_estimators=500, max_depth=50, random_state=42)\n",
    "rf_clf.fit(X_train, y_train)\n",
    "y_pred_rf = rf_clf.predict(X_test)\n",
    "accuracy_rf = accuracy_score(y_test, y_pred_rf)\n",
    "print(\"Random Forest Accuracy:\", accuracy_rf)"
   ]
  },
  {
   "cell_type": "markdown",
   "id": "3312d74d-b949-44de-82bb-d928e21520ae",
   "metadata": {},
   "source": [
    "### 8. Using KNN Regression"
   ]
  },
  {
   "cell_type": "code",
   "execution_count": 13,
   "id": "173ab9e8-e044-4ff0-b16d-f688492fd8fc",
   "metadata": {},
   "outputs": [
    {
     "name": "stdout",
     "output_type": "stream",
     "text": [
      "Predicted Price Category is (KNN-R): 2\n"
     ]
    }
   ],
   "source": [
    "#KNN-R\n",
    "\n",
    "new_data = [[2010, 2180, 2370, 1580, 5, 3, 0, 0, 4,27, 60, 40, 2]] \n",
    "#new_data = [[1992, 1180, 1580, 2080 3, 2, 0, 0, 4,30, 46, 7, 3]]\n",
    "\n",
    "new_data_scaled = scaler.transform(new_data)\n",
    "prediction_knn = classifier.predict(new_data_scaled)  # Fixed line\n",
    "print(f\"Predicted Price Category is (KNN-R): {prediction_knn[0]}\")"
   ]
  },
  {
   "cell_type": "markdown",
   "id": "8426b7fa-ac54-460d-bbca-f640297ba441",
   "metadata": {},
   "source": [
    "### 9. Using Decision Tree Classification"
   ]
  },
  {
   "cell_type": "code",
   "execution_count": 17,
   "id": "ab6733f3-e1b1-4838-9383-b5543f53809c",
   "metadata": {},
   "outputs": [
    {
     "name": "stdout",
     "output_type": "stream",
     "text": [
      "Accuracy (DT-C): 0.7464324917672887\n"
     ]
    }
   ],
   "source": [
    "#DT-C\n",
    "\n",
    "clf = DecisionTreeClassifier()\n",
    "clf.fit(X_train, y_train)\n",
    "y_pred = clf.predict(X_test)\n",
    "accuracy = accuracy_score(y_test, y_pred)\n",
    "print(\"Accuracy (DT-C):\", accuracy)"
   ]
  },
  {
   "cell_type": "markdown",
   "id": "dcc9c314-abb7-429d-a3eb-a78fe547f18c",
   "metadata": {},
   "source": [
    "### 10. Using Decision Tree Regression"
   ]
  },
  {
   "cell_type": "code",
   "execution_count": 18,
   "id": "9471647f-c9ce-4a3f-9d49-f42b86d9c7d8",
   "metadata": {},
   "outputs": [
    {
     "name": "stdout",
     "output_type": "stream",
     "text": [
      "The New data House price is Catogery (DT_R): [3]\n"
     ]
    }
   ],
   "source": [
    "#DT-R\n",
    "\n",
    "new_data = [[2010, 2180, 2370, 1580, 5, 3, 0, 0, 4,27, 60, 40, 2]] \n",
    "#new_data = [[1992, 1180, 1580, 2080 3, 2, 0, 0, 4,30, 46, 7, 3]]\n",
    "\n",
    "new_data = scaler.transform(new_data)\n",
    "prediction = clf.predict(new_data)\n",
    "print(f'The New data House price is Catogery (DT_R): {prediction}')"
   ]
  },
  {
   "cell_type": "markdown",
   "id": "c669a58e-e6da-4039-a468-b97008e10ac0",
   "metadata": {},
   "source": [
    "### 11. Using SVM Classification"
   ]
  },
  {
   "cell_type": "code",
   "execution_count": 19,
   "id": "eb62d34a-89c9-4415-bc13-e8e971f29907",
   "metadata": {},
   "outputs": [
    {
     "name": "stdout",
     "output_type": "stream",
     "text": [
      "Linear SVM Accuracy : 0.7420417124039517\n"
     ]
    }
   ],
   "source": [
    "#SVM-C\n",
    "\n",
    "scaler = StandardScaler()\n",
    "X_train_scaled = scaler.fit_transform(X_train)\n",
    "X_test_scaled = scaler.transform(X_test)\n",
    "\n",
    "clf = svm.SVC(kernel='linear')\n",
    "clf.fit(X_train_scaled, y_train)\n",
    "y_pred = clf.predict(X_test_scaled)\n",
    "\n",
    "accuracy = accuracy_score(y_test, y_pred)\n",
    "print(f'Linear SVM Accuracy : {accuracy}')"
   ]
  },
  {
   "cell_type": "markdown",
   "id": "99857f81-2da1-468e-8572-ff36da31931a",
   "metadata": {},
   "source": [
    "### 12. Using SVM Regression"
   ]
  },
  {
   "cell_type": "code",
   "execution_count": 20,
   "id": "ff6675f0-8a63-4069-9ca5-f3a608d0e5bf",
   "metadata": {},
   "outputs": [
    {
     "name": "stdout",
     "output_type": "stream",
     "text": [
      "Predicted Price Category (Linear SVM): 3\n",
      "RBF SVM Accuracy (gamma=0.1): 0.747530186608123\n",
      "Predicted Price Category (RBF SVM): 2\n"
     ]
    }
   ],
   "source": [
    "#SVM-R\n",
    "\n",
    "new_data = [[2010, 2180, 2370, 1580, 5, 3, 0, 0, 4,27, 60, 40, 2]] \n",
    "#new_data = [[1992, 1180, 1580, 2080 3, 2, 0, 0, 4,30, 46, 7, 3]]\n",
    "\n",
    "new_data = scaler.transform(new_data)\n",
    "prediction = clf.predict(new_data)\n",
    "print(f'Predicted Price Category (Linear SVM): {int(prediction[0])}')\n",
    "\n",
    "gamma = 0.1\n",
    "clsf = svm.SVC(kernel='rbf', gamma=gamma)\n",
    "clsf.fit(X_train_scaled, y_train)\n",
    "y_pred_rbf = clsf.predict(X_test_scaled)\n",
    "\n",
    "accuracy_rbf = accuracy_score(y_test, y_pred_rbf)\n",
    "print(f'RBF SVM Accuracy (gamma={gamma}): {accuracy_rbf}')\n",
    "\n",
    "prediction_rbf = clsf.predict(new_data)\n",
    "print(f'Predicted Price Category (RBF SVM): {int(prediction_rbf[0])}')"
   ]
  },
  {
   "cell_type": "markdown",
   "id": "004aa78d-bfb9-4c82-b0d1-c124b64d0254",
   "metadata": {},
   "source": [
    "### 13. Using Random Forest Regression to find the Price"
   ]
  },
  {
   "cell_type": "code",
   "execution_count": 21,
   "id": "cd291afb-a796-4aaf-b1ea-14c48fd176e4",
   "metadata": {},
   "outputs": [
    {
     "name": "stdout",
     "output_type": "stream",
     "text": [
      "The New data House price prediction is (RF-R): 803938\n"
     ]
    }
   ],
   "source": [
    "#RF-R\n",
    "\n",
    "X = np.array(f_df[['yr_built','sqft_above', 'sqft_living', 'sqft_lot','bedrooms', 'bathrooms', 'waterfront', 'view', 'condition','street','statezip','city', 'floors']])\n",
    "y = np.array(cell_df[['price']])\n",
    "X_train, X_test, y_train, y_test = train_test_split(X, y, test_size=0.2, random_state=42)\n",
    "\n",
    "rf_regressor = RandomForestRegressor(n_estimators=100, random_state=42)\n",
    "rf_regressor.fit(X_train, y_train)\n",
    "y_pred_rf = rf_regressor.predict(X_test)\n",
    "\n",
    "new_data = [[2010, 2180, 2370, 1580, 5, 3, 0, 0, 4,27, 60, 40, 2]] \n",
    "#new_data = [[1992, 1180, 1580, 2080 3, 2, 0, 0, 4,30, 46, 7, 3]]\n",
    "\n",
    "prediction = rf_regressor.predict(new_data)\n",
    "print(f'The New data House price prediction is (RF-R): {int(prediction[0])}')"
   ]
  },
  {
   "cell_type": "markdown",
   "id": "76585a4e-b851-4c01-a0f6-927f11503293",
   "metadata": {},
   "source": [
    "### 14. Using Ridge and Lasso Regressions "
   ]
  },
  {
   "cell_type": "code",
   "execution_count": 22,
   "id": "4b29b68a-81dd-44d7-abc8-df17c7aa060b",
   "metadata": {
    "scrolled": true
   },
   "outputs": [
    {
     "name": "stdout",
     "output_type": "stream",
     "text": [
      "Mean Squared Error of Ridge Regression: 838905172797\n",
      "Mean Squared Error of Lasso Regression: 838729431881\n"
     ]
    }
   ],
   "source": [
    "#RIDGE & LASSO\n",
    "\n",
    "ridge = Ridge(alpha=1) \n",
    "ridge.fit(X_train, y_train)\n",
    "\n",
    "lasso = Lasso(alpha=1) \n",
    "lasso.fit(X_train, y_train)\n",
    "\n",
    "ridge_pred = ridge.predict(X_test)\n",
    "lasso_pred = lasso.predict(X_test)\n",
    "ridge_mse = mean_squared_error(y_test, ridge_pred)\n",
    "lasso_mse = mean_squared_error(y_test, lasso_pred)\n",
    "\n",
    "print(\"Mean Squared Error of Ridge Regression:\", int(ridge_mse))\n",
    "print(\"Mean Squared Error of Lasso Regression:\", int(lasso_mse))"
   ]
  },
  {
   "cell_type": "markdown",
   "id": "102a4b83-b014-49d5-bca1-bb3250f0370c",
   "metadata": {},
   "source": [
    "### 15. Actual price VS Actual Prices Scatter Plot"
   ]
  },
  {
   "cell_type": "code",
   "execution_count": 23,
   "id": "91c00ecf-b68d-4e3f-8c41-11eda85ad639",
   "metadata": {},
   "outputs": [
    {
     "data": {
      "image/png": "[encoded data removed]",
      "text/plain": [
       "<Figure size 800x600 with 1 Axes>"
      ]
     },
     "metadata": {},
     "output_type": "display_data"
    }
   ],
   "source": [
    "plt.figure(figsize=(8, 6))\n",
    "plt.scatter(y_test, y_pred_rf, color='green', alpha=0.5, label=\"Random Forest Regressor\")\n",
    "plt.scatter(y_test, lasso_pred, color='red', alpha=0.5, label=\"Lasso Regression\")\n",
    "plt.scatter(y_test, ridge_pred, color='blue', alpha=0.5, label=\"Ridge Regression\")\n",
    "\n",
    "plt.xlabel(\"Actual Price\")\n",
    "plt.ylabel(\"Predicted Price\")\n",
    "plt.title(\"Actual vs Predicted Prices\")\n",
    "plt.legend()\n",
    "plt.show()"
   ]
  },
  {
   "cell_type": "markdown",
   "id": "2a86ce4c-557c-40bc-9ee2-8b6109373c4d",
   "metadata": {},
   "source": [
    "### 16. Actual price VS Actual Prices Bar Plot"
   ]
  },
  {
   "cell_type": "code",
   "execution_count": 24,
   "id": "18a1bb7c-591b-41bc-a344-fdd13b818162",
   "metadata": {},
   "outputs": [
    {
     "data": {
      "image/png": "[encoded data removed]",
      "text/plain": [
       "<Figure size 1500x600 with 1 Axes>"
      ]
     },
     "metadata": {},
     "output_type": "display_data"
    }
   ],
   "source": [
    "y_test_flat = np.ravel(y_test)\n",
    "y_pred_rf_flat = np.ravel(y_pred_rf)\n",
    "ridge_pred_flat = np.ravel(ridge_pred)\n",
    "lasso_pred_flat = np.ravel(lasso_pred)\n",
    "\n",
    "plt.figure(figsize=(15, 6))\n",
    "x = np.arange(len(y_test_flat[:10]))\n",
    "width = 0.3\n",
    "\n",
    "plt.bar(x - width, y_test_flat[:10], width=width, label=\"Actual Price\", color='blue')\n",
    "plt.bar(x, y_pred_rf_flat[:10], width=width, label=\"Random Forest\", color='orange')\n",
    "plt.bar(x + width, ridge_pred_flat[:10], width=width, label=\"Ridge Regression\", color='green')\n",
    "plt.bar(x + 2*width, lasso_pred_flat[:10], width=width, label=\"Lasso Regression\", color='red')\n",
    "\n",
    "plt.xlabel(\"Sample Index\")\n",
    "plt.ylabel(\"Price\")\n",
    "plt.title(\"Actual vs Predicted Prices (Regression)\")\n",
    "plt.xticks(x, labels=[f\"Sample {i}\" for i in range(10)], rotation=45)\n",
    "plt.legend()\n",
    "plt.show()"
   ]
  },
  {
   "cell_type": "markdown",
   "id": "ed2809b8-f782-4a4c-9a75-67f0f82c9336",
   "metadata": {},
   "source": [
    "## Conclusion\n",
    "This project explores various machine learning models for house price prediction, analyzing their performance using error metrics and visualizations. \n",
    "The results help in understanding which models work best for real estate price forecasting."
   ]
  },
  {
   "cell_type": "code",
   "execution_count": null,
   "id": "e1992aad-e3ca-4ddb-9523-6af05b577ea7",
   "metadata": {},
   "outputs": [],
   "source": []
  }
 ],
 "metadata": {
  "kernelspec": {
   "display_name": "Python 3 (ipykernel)",
   "language": "python",
   "name": "python3"
  },
  "language_info": {
   "codemirror_mode": {
    "name": "ipython",
    "version": 3
   },
   "file_extension": ".py",
   "mimetype": "text/x-python",
   "name": "python",
   "nbconvert_exporter": "python",
   "pygments_lexer": "ipython3",
   "version": "3.13.2"
  }
 },
 "nbformat": 4,
 "nbformat_minor": 5
}
